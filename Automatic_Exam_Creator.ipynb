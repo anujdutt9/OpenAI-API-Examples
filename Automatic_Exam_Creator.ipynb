{
 "cells": [
  {
   "cell_type": "code",
   "execution_count": 1,
   "id": "893fe50d-d531-4820-a977-0c9a3593c150",
   "metadata": {
    "tags": []
   },
   "outputs": [],
   "source": [
    "import os\n",
    "import openai"
   ]
  },
  {
   "cell_type": "code",
   "execution_count": 2,
   "id": "a2bb9ddb-dccf-4348-87a5-4b485725aec4",
   "metadata": {
    "tags": []
   },
   "outputs": [],
   "source": [
    "# Read API Key\n",
    "with open('API_KEY.txt') as f:\n",
    "    api_key = f.readlines()[0]\n",
    "\n",
    "# Set API Key\n",
    "openai.api_key = api_key"
   ]
  },
  {
   "cell_type": "markdown",
   "id": "4ea9bbd1-268c-4262-8c05-0b347e10a095",
   "metadata": {},
   "source": [
    "## Automatic Exam Creator"
   ]
  },
  {
   "cell_type": "code",
   "execution_count": 3,
   "id": "fdc421fe-b794-4f04-a7d3-8dfabb546f52",
   "metadata": {
    "tags": []
   },
   "outputs": [],
   "source": [
    "def create_test_prompt(topic, n_questions, n_possible_answers):\n",
    "    prompt = f\"Create a multiple choice quiz on the topic of {topic} consisting of {n_questions} questions. \"\\\n",
    "           + f\"Each question should have {n_possible_answers} options. \"\\\n",
    "           + f\"Also include the correct answer for each question using the starting string 'Correct Answer: ' \"\\\n",
    "           + \"If you are unsure about the correct answer to a question, generate a new pair of question and options. \" # Prompt Engineering\n",
    "    return prompt"
   ]
  },
  {
   "cell_type": "code",
   "execution_count": 4,
   "id": "d92935c1-237d-4769-a4e4-bc12c6f62e3e",
   "metadata": {
    "tags": []
   },
   "outputs": [],
   "source": [
    "# Parameters\n",
    "TOPIC = \"Jabra Panacast50\"  # \"US History\", \"Mathematics\", \"Deep Learning\", \"Python Programming\"\n",
    "# TOPIC = \"Computer Vision\"\n",
    "NUM_QUESTIONS = 4\n",
    "NUM_POSSIBLE_ANSWERS = 4"
   ]
  },
  {
   "cell_type": "code",
   "execution_count": 5,
   "id": "c7513d48-7b39-4c4a-8005-309eb43ea443",
   "metadata": {
    "tags": []
   },
   "outputs": [
    {
     "data": {
      "text/plain": [
       "\"Create a multiple choice quiz on the topic of Jabra Panacast50 consisting of 4 questions. Each question should have 4 options. Also include the correct answer for each question using the starting string 'Correct Answer: ' If you are unsure about the correct answer to a question, generate a new pair of question and options. \""
      ]
     },
     "execution_count": 5,
     "metadata": {},
     "output_type": "execute_result"
    }
   ],
   "source": [
    "# TEST\n",
    "create_test_prompt(TOPIC, NUM_QUESTIONS, NUM_POSSIBLE_ANSWERS)"
   ]
  },
  {
   "cell_type": "code",
   "execution_count": 6,
   "id": "ac079b0e-0a3a-467b-bc6b-34df402280d3",
   "metadata": {
    "tags": []
   },
   "outputs": [],
   "source": [
    "# API Request\n",
    "response = openai.Completion.create(engine='text-davinci-003',\n",
    "                                    prompt=create_test_prompt(TOPIC, NUM_QUESTIONS, NUM_POSSIBLE_ANSWERS),\n",
    "                                    max_tokens=256,\n",
    "                                    temperature=0.7)"
   ]
  },
  {
   "cell_type": "code",
   "execution_count": 7,
   "id": "4238ae61-f85c-47e7-92fd-364d1ce93475",
   "metadata": {
    "tags": []
   },
   "outputs": [
    {
     "data": {
      "text/plain": [
       "<OpenAIObject text_completion id=cmpl-6wxthnTdyPQGqComOTEfJV26qkVDe at 0x1cfeacd5cb0> JSON: {\n",
       "  \"choices\": [\n",
       "    {\n",
       "      \"finish_reason\": \"stop\",\n",
       "      \"index\": 0,\n",
       "      \"logprobs\": null,\n",
       "      \"text\": \"\\n\\nQ1. What type of camera does the Jabra Panacast50 use?\\nA. HD\\nB. IP\\nC. 4K\\nD. USB\\nCorrect Answer: C. 4K\\n\\nQ2. What type of wireless technology does the Jabra Panacast50 use?\\nA. Bluetooth\\nB. Wi-Fi\\nC. RF\\nD. NFC\\nCorrect Answer: B. Wi-Fi\\n\\nQ3. How many microphones are included with the Jabra Panacast50?\\nA. 2\\nB. 4\\nC. 6\\nD. 8\\nCorrect Answer: A. 2\\n\\nQ4. What is the microphone sensitivity of the Jabra Panacast50?\\nA. -90dB\\nB. -80dB\\nC. -70dB\\nD. -60dB\\nCorrect Answer: D. -60dB\"\n",
       "    }\n",
       "  ],\n",
       "  \"created\": 1679511289,\n",
       "  \"id\": \"cmpl-6wxthnTdyPQGqComOTEfJV26qkVDe\",\n",
       "  \"model\": \"text-davinci-003\",\n",
       "  \"object\": \"text_completion\",\n",
       "  \"usage\": {\n",
       "    \"completion_tokens\": 185,\n",
       "    \"prompt_tokens\": 66,\n",
       "    \"total_tokens\": 251\n",
       "  }\n",
       "}"
      ]
     },
     "execution_count": 7,
     "metadata": {},
     "output_type": "execute_result"
    }
   ],
   "source": [
    "response"
   ]
  },
  {
   "cell_type": "code",
   "execution_count": 8,
   "id": "79730146-ec1d-47bf-b810-39ad816aada1",
   "metadata": {
    "tags": []
   },
   "outputs": [
    {
     "name": "stdout",
     "output_type": "stream",
     "text": [
      "\n",
      "\n",
      "Q1. What type of camera does the Jabra Panacast50 use?\n",
      "A. HD\n",
      "B. IP\n",
      "C. 4K\n",
      "D. USB\n",
      "Correct Answer: C. 4K\n",
      "\n",
      "Q2. What type of wireless technology does the Jabra Panacast50 use?\n",
      "A. Bluetooth\n",
      "B. Wi-Fi\n",
      "C. RF\n",
      "D. NFC\n",
      "Correct Answer: B. Wi-Fi\n",
      "\n",
      "Q3. How many microphones are included with the Jabra Panacast50?\n",
      "A. 2\n",
      "B. 4\n",
      "C. 6\n",
      "D. 8\n",
      "Correct Answer: A. 2\n",
      "\n",
      "Q4. What is the microphone sensitivity of the Jabra Panacast50?\n",
      "A. -90dB\n",
      "B. -80dB\n",
      "C. -70dB\n",
      "D. -60dB\n",
      "Correct Answer: D. -60dB\n"
     ]
    }
   ],
   "source": [
    "print(response['choices'][0]['text'])"
   ]
  },
  {
   "cell_type": "markdown",
   "id": "3ec1b344-9030-424c-ab4b-f6791aaf353a",
   "metadata": {},
   "source": [
    "## Exam Simulator"
   ]
  },
  {
   "cell_type": "code",
   "execution_count": 9,
   "id": "ee0d13e7-263a-4594-a928-9b862237e3ad",
   "metadata": {
    "tags": []
   },
   "outputs": [],
   "source": [
    "# Extract Question & Options\n",
    "def create_student_view(response, n_questions):\n",
    "    student_view = {1: ''}\n",
    "    question_number = 1\n",
    "    # Split response by Questions and Options\n",
    "    for line in response.split(\"\\n\"):\n",
    "        if not line.startswith(\"Correct Answer:\"):\n",
    "            # If not correct answer, it's still a question and option line\n",
    "            student_view[question_number] += line + \"\\n\"\n",
    "        else:\n",
    "            if question_number < n_questions:\n",
    "                question_number += 1\n",
    "                student_view[question_number] = ''\n",
    "    return student_view"
   ]
  },
  {
   "cell_type": "code",
   "execution_count": 10,
   "id": "e241b430-de7c-4bad-8874-944aa560a336",
   "metadata": {
    "tags": []
   },
   "outputs": [],
   "source": [
    "result = create_student_view(response['choices'][0]['text'], NUM_QUESTIONS)"
   ]
  },
  {
   "cell_type": "code",
   "execution_count": 11,
   "id": "3a126a3b-c816-4504-a79d-dd3d0ad6bde4",
   "metadata": {
    "tags": []
   },
   "outputs": [
    {
     "name": "stdout",
     "output_type": "stream",
     "text": [
      "\n",
      "\n",
      "Q1. What type of camera does the Jabra Panacast50 use?\n",
      "A. HD\n",
      "B. IP\n",
      "C. 4K\n",
      "D. USB\n",
      "\n",
      "\n",
      "Q2. What type of wireless technology does the Jabra Panacast50 use?\n",
      "A. Bluetooth\n",
      "B. Wi-Fi\n",
      "C. RF\n",
      "D. NFC\n",
      "\n",
      "\n",
      "Q3. How many microphones are included with the Jabra Panacast50?\n",
      "A. 2\n",
      "B. 4\n",
      "C. 6\n",
      "D. 8\n",
      "\n",
      "\n",
      "Q4. What is the microphone sensitivity of the Jabra Panacast50?\n",
      "A. -90dB\n",
      "B. -80dB\n",
      "C. -70dB\n",
      "D. -60dB\n",
      "\n"
     ]
    }
   ],
   "source": [
    "# Extract just the Question & Options\n",
    "for key in result:\n",
    "    print(result[key])"
   ]
  },
  {
   "cell_type": "code",
   "execution_count": 12,
   "id": "cbca6900-3df9-4142-80fb-f3735e3cc5f4",
   "metadata": {
    "tags": []
   },
   "outputs": [],
   "source": [
    "# Extract Correct Answers\n",
    "def extract_answers(response, n_questions):\n",
    "    answers = {1: ''}\n",
    "    question_number = 1\n",
    "    # Split response\n",
    "    for line in response.split(\"\\n\"):\n",
    "        if line.startswith(\"Correct Answer:\"):\n",
    "            answers[question_number] += line + \"\\n\"\n",
    "            if question_number < n_questions:\n",
    "                question_number += 1\n",
    "                answers[question_number] = ''\n",
    "    return answers"
   ]
  },
  {
   "cell_type": "code",
   "execution_count": 13,
   "id": "58d4c8ca-eca9-4f56-bf7b-92198ff1be19",
   "metadata": {
    "tags": []
   },
   "outputs": [
    {
     "data": {
      "text/plain": [
       "{1: 'Correct Answer: C. 4K\\n',\n",
       " 2: 'Correct Answer: B. Wi-Fi\\n',\n",
       " 3: 'Correct Answer: A. 2\\n',\n",
       " 4: 'Correct Answer: D. -60dB\\n'}"
      ]
     },
     "execution_count": 13,
     "metadata": {},
     "output_type": "execute_result"
    }
   ],
   "source": [
    "answers = extract_answers(response['choices'][0]['text'], NUM_QUESTIONS)\n",
    "answers"
   ]
  },
  {
   "cell_type": "markdown",
   "id": "61a17593-50fa-43b8-95c1-82554278601b",
   "metadata": {},
   "source": [
    "## Take & Grade Exam"
   ]
  },
  {
   "cell_type": "code",
   "execution_count": 14,
   "id": "9844a854-35ea-4068-9c38-c49e31b8d351",
   "metadata": {
    "tags": []
   },
   "outputs": [],
   "source": [
    "student_view = create_student_view(response['choices'][0]['text'], NUM_QUESTIONS)"
   ]
  },
  {
   "cell_type": "code",
   "execution_count": 15,
   "id": "d7a272d0-259a-43ff-8862-73a87224f571",
   "metadata": {
    "tags": []
   },
   "outputs": [],
   "source": [
    "answers = extract_answers(response['choices'][0]['text'], NUM_QUESTIONS)"
   ]
  },
  {
   "cell_type": "code",
   "execution_count": 16,
   "id": "d8b7ccd5-b717-4436-8766-63ca4c6d50de",
   "metadata": {
    "tags": []
   },
   "outputs": [],
   "source": [
    "# Take Exam\n",
    "def take_exam(student_view):\n",
    "    student_answers = {}\n",
    "    for question, question_view in student_view.items():\n",
    "        print(question_view)\n",
    "        answer = input(\"Enter your answer: \")\n",
    "        student_answers[question] = answer\n",
    "    return student_answers"
   ]
  },
  {
   "cell_type": "code",
   "execution_count": 18,
   "id": "0ba78f1b-fea4-45b7-a787-6ca5451a4065",
   "metadata": {
    "tags": []
   },
   "outputs": [
    {
     "name": "stdout",
     "output_type": "stream",
     "text": [
      "\n",
      "\n",
      "Q1. What type of camera does the Jabra Panacast50 use?\n",
      "A. HD\n",
      "B. IP\n",
      "C. 4K\n",
      "D. USB\n",
      "\n"
     ]
    },
    {
     "name": "stdin",
     "output_type": "stream",
     "text": [
      "Enter your answer:  d\n"
     ]
    },
    {
     "name": "stdout",
     "output_type": "stream",
     "text": [
      "\n",
      "Q2. What type of wireless technology does the Jabra Panacast50 use?\n",
      "A. Bluetooth\n",
      "B. Wi-Fi\n",
      "C. RF\n",
      "D. NFC\n",
      "\n"
     ]
    },
    {
     "name": "stdin",
     "output_type": "stream",
     "text": [
      "Enter your answer:  a\n"
     ]
    },
    {
     "name": "stdout",
     "output_type": "stream",
     "text": [
      "\n",
      "Q3. How many microphones are included with the Jabra Panacast50?\n",
      "A. 2\n",
      "B. 4\n",
      "C. 6\n",
      "D. 8\n",
      "\n"
     ]
    },
    {
     "name": "stdin",
     "output_type": "stream",
     "text": [
      "Enter your answer:  d\n"
     ]
    },
    {
     "name": "stdout",
     "output_type": "stream",
     "text": [
      "\n",
      "Q4. What is the microphone sensitivity of the Jabra Panacast50?\n",
      "A. -90dB\n",
      "B. -80dB\n",
      "C. -70dB\n",
      "D. -60dB\n",
      "\n"
     ]
    },
    {
     "name": "stdin",
     "output_type": "stream",
     "text": [
      "Enter your answer:  d\n"
     ]
    }
   ],
   "source": [
    "student_answers = take_exam(student_view)"
   ]
  },
  {
   "cell_type": "code",
   "execution_count": 19,
   "id": "1da6706f-01ab-4ff4-8b0f-3c0945602e21",
   "metadata": {
    "tags": []
   },
   "outputs": [
    {
     "data": {
      "text/plain": [
       "{1: 'd', 2: 'a', 3: 'd', 4: 'd'}"
      ]
     },
     "execution_count": 19,
     "metadata": {},
     "output_type": "execute_result"
    }
   ],
   "source": [
    "student_answers"
   ]
  },
  {
   "cell_type": "code",
   "execution_count": 20,
   "id": "5ddb22bc-3f2d-41bc-8a39-62b1c0db67af",
   "metadata": {
    "tags": []
   },
   "outputs": [
    {
     "data": {
      "text/plain": [
       "{1: 'Correct Answer: C. 4K\\n',\n",
       " 2: 'Correct Answer: B. Wi-Fi\\n',\n",
       " 3: 'Correct Answer: A. 2\\n',\n",
       " 4: 'Correct Answer: D. -60dB\\n'}"
      ]
     },
     "execution_count": 20,
     "metadata": {},
     "output_type": "execute_result"
    }
   ],
   "source": [
    "answers"
   ]
  },
  {
   "cell_type": "code",
   "execution_count": 21,
   "id": "ef66b1f5-5ddb-47fa-83cd-2aa5f8b41f49",
   "metadata": {
    "tags": []
   },
   "outputs": [
    {
     "data": {
      "text/plain": [
       "'c'"
      ]
     },
     "execution_count": 21,
     "metadata": {},
     "output_type": "execute_result"
    }
   ],
   "source": [
    "answers[1][16].lower()"
   ]
  },
  {
   "cell_type": "code",
   "execution_count": 22,
   "id": "034de891-4a09-4eed-b902-50204dfb4d86",
   "metadata": {
    "tags": []
   },
   "outputs": [],
   "source": [
    "def grade_exam(correct_answers, student_answers):\n",
    "    correct = 0\n",
    "    for question, answer in student_answers.items():\n",
    "        # \n",
    "        if answer == correct_answers[question][16].lower():\n",
    "            correct += 1\n",
    "    \n",
    "    grade = 100 * correct / len(answers)\n",
    "    \n",
    "    if grade < 60:\n",
    "        passed = \"NO PASS\"\n",
    "    else:\n",
    "        passed = \"PASS\"\n",
    "    \n",
    "    return f\"{correct} / {len(answers)} are correct! You got {grade} % grade, {passed}\""
   ]
  },
  {
   "cell_type": "code",
   "execution_count": 23,
   "id": "188d69c3-7c3e-4cc6-8c3b-475f2d404eda",
   "metadata": {
    "tags": []
   },
   "outputs": [
    {
     "name": "stdout",
     "output_type": "stream",
     "text": [
      "1 / 4 are correct! You got 25.0 % grade, NO PASS\n"
     ]
    }
   ],
   "source": [
    "print(grade_exam(answers, student_answers))"
   ]
  },
  {
   "cell_type": "code",
   "execution_count": null,
   "id": "3b2324e3-9f43-4453-9920-1da0abdb2b62",
   "metadata": {},
   "outputs": [],
   "source": []
  }
 ],
 "metadata": {
  "kernelspec": {
   "display_name": "Python 3 (ipykernel)",
   "language": "python",
   "name": "python3"
  },
  "language_info": {
   "codemirror_mode": {
    "name": "ipython",
    "version": 3
   },
   "file_extension": ".py",
   "mimetype": "text/x-python",
   "name": "python",
   "nbconvert_exporter": "python",
   "pygments_lexer": "ipython3",
   "version": "3.10.9"
  }
 },
 "nbformat": 4,
 "nbformat_minor": 5
}
