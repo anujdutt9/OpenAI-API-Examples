{
 "cells": [
  {
   "cell_type": "code",
   "execution_count": 1,
   "id": "013b4e51-b05f-4f68-be25-01b03636e7ea",
   "metadata": {
    "tags": []
   },
   "outputs": [],
   "source": [
    "import os\n",
    "import openai"
   ]
  },
  {
   "cell_type": "code",
   "execution_count": 2,
   "id": "f51e8ab2-41e4-4f3e-9ab1-1adcc3346e87",
   "metadata": {
    "tags": []
   },
   "outputs": [],
   "source": [
    "# Read API Key\n",
    "with open('API_KEY.txt') as f:\n",
    "    api_key = f.readlines()[0]\n",
    "\n",
    "# Set API Key\n",
    "openai.api_key = api_key"
   ]
  },
  {
   "cell_type": "markdown",
   "id": "5f3e6d76-834f-49c7-8c9b-d9f84d4352a6",
   "metadata": {},
   "source": [
    "## Prompt Engineering - Model Hallucination\n",
    "\n",
    "Here, we make up a company name and ask GPT that if it can provide us with details about the company. The model withput proper prompts tends to hallucinate, as this company does not exist, and hence provides with wrong answers as output."
   ]
  },
  {
   "cell_type": "code",
   "execution_count": 3,
   "id": "64ce3128-a189-4021-ae75-8f35edf1a9fb",
   "metadata": {
    "tags": []
   },
   "outputs": [],
   "source": [
    "# Model Hallucination\n",
    "MY_PROMPT = \"Give me details about a technology startup named Carrot Halwa.\""
   ]
  },
  {
   "cell_type": "code",
   "execution_count": 4,
   "id": "ac90a831-93cd-4b2b-a018-0620981f8bf9",
   "metadata": {
    "tags": []
   },
   "outputs": [],
   "source": [
    "response = openai.Completion.create(\n",
    "    engine='text-davinci-003',\n",
    "    prompt=MY_PROMPT,\n",
    "    max_tokens=256,\n",
    "    temperature=0.7,\n",
    ")"
   ]
  },
  {
   "cell_type": "code",
   "execution_count": 5,
   "id": "05b32a7a-0727-4ab4-ab65-38c88733c8db",
   "metadata": {
    "tags": []
   },
   "outputs": [
    {
     "data": {
      "text/plain": [
       "<OpenAIObject text_completion id=cmpl-6v9vyRww907bRPaVEBft1epXQUahZ at 0x225469e90d0> JSON: {\n",
       "  \"choices\": [\n",
       "    {\n",
       "      \"finish_reason\": \"length\",\n",
       "      \"index\": 0,\n",
       "      \"logprobs\": null,\n",
       "      \"text\": \"\\n\\nCarrot Halwa is a technology startup based in India that is revolutionizing the way people access, use and benefit from technology. The company was founded by a team of experienced professionals from diverse backgrounds, including technology, marketing, and finance.\\n\\nCarrot Halwa's mission is to make technology more accessible, easier to use, and more beneficial to people of all backgrounds. The company is focused on developing innovative and disruptive products and services that are built around its core principles of accessibility, affordability, and scalability. \\n\\nCarrot Halwa's current product offerings include an app platform that allows users to create and manage custom apps, an AI-based virtual assistant that provides personalized recommendations and answers to user queries, and a cloud-based platform for enterprise collaboration. The company has also developed a range of services that use machine learning and artificial intelligence to help businesses better understand their customers and make more informed decisions.\\n\\nApart from developing technology solutions, Carrot Halwa is also focused on helping people become better equipped to use and benefit from technology. The company has an active blog and YouTube channel that provides users with tutorials and advice on how to maximize the use of technology in their daily lives. \\n\\nCarrot Halwa is a rapidly growing technology startup\"\n",
       "    }\n",
       "  ],\n",
       "  \"created\": 1679080902,\n",
       "  \"id\": \"cmpl-6v9vyRww907bRPaVEBft1epXQUahZ\",\n",
       "  \"model\": \"text-davinci-003\",\n",
       "  \"object\": \"text_completion\",\n",
       "  \"usage\": {\n",
       "    \"completion_tokens\": 256,\n",
       "    \"prompt_tokens\": 13,\n",
       "    \"total_tokens\": 269\n",
       "  }\n",
       "}"
      ]
     },
     "execution_count": 5,
     "metadata": {},
     "output_type": "execute_result"
    }
   ],
   "source": [
    "response"
   ]
  },
  {
   "cell_type": "code",
   "execution_count": 6,
   "id": "0eccd768-fae8-4742-93bb-1d14f0692c2e",
   "metadata": {
    "tags": []
   },
   "outputs": [
    {
     "name": "stdout",
     "output_type": "stream",
     "text": [
      "\n",
      "\n",
      "Carrot Halwa is a technology startup based in India that is revolutionizing the way people access, use and benefit from technology. The company was founded by a team of experienced professionals from diverse backgrounds, including technology, marketing, and finance.\n",
      "\n",
      "Carrot Halwa's mission is to make technology more accessible, easier to use, and more beneficial to people of all backgrounds. The company is focused on developing innovative and disruptive products and services that are built around its core principles of accessibility, affordability, and scalability. \n",
      "\n",
      "Carrot Halwa's current product offerings include an app platform that allows users to create and manage custom apps, an AI-based virtual assistant that provides personalized recommendations and answers to user queries, and a cloud-based platform for enterprise collaboration. The company has also developed a range of services that use machine learning and artificial intelligence to help businesses better understand their customers and make more informed decisions.\n",
      "\n",
      "Apart from developing technology solutions, Carrot Halwa is also focused on helping people become better equipped to use and benefit from technology. The company has an active blog and YouTube channel that provides users with tutorials and advice on how to maximize the use of technology in their daily lives. \n",
      "\n",
      "Carrot Halwa is a rapidly growing technology startup\n"
     ]
    }
   ],
   "source": [
    "print(response['choices'][0]['text'])"
   ]
  },
  {
   "cell_type": "markdown",
   "id": "17f64e80-b164-4a9a-b014-caeff41d6345",
   "metadata": {},
   "source": [
    "## Avoid Hallucinations with Better Prompts\n",
    "\n",
    "Here we instead help the model to say that if the model is not probabilistically sure about the answer to a question, then it's better to say \"I don't know\" instead of giving a wrong answer."
   ]
  },
  {
   "cell_type": "code",
   "execution_count": 7,
   "id": "f312f0cd-1803-409d-b17c-d565398e758e",
   "metadata": {
    "tags": []
   },
   "outputs": [],
   "source": [
    "# Model Hallucination\n",
    "MY_PROMPT = \"Give me details about a technology startup named Carrot Halwa. Only provide me with an answer if you are 100% sure that this company exists, otherwise specify, 'I don't know'\""
   ]
  },
  {
   "cell_type": "code",
   "execution_count": 8,
   "id": "4ae5dde9-94e6-4ebd-ac55-871c655a2402",
   "metadata": {
    "tags": []
   },
   "outputs": [],
   "source": [
    "response = openai.Completion.create(\n",
    "    engine='text-davinci-003',\n",
    "    prompt=MY_PROMPT,\n",
    "    max_tokens=256,\n",
    "    temperature=0.7,\n",
    ")"
   ]
  },
  {
   "cell_type": "code",
   "execution_count": 9,
   "id": "c2781c23-b705-4a42-8acc-eaa3811e8a09",
   "metadata": {
    "tags": []
   },
   "outputs": [
    {
     "data": {
      "text/plain": [
       "<OpenAIObject text_completion id=cmpl-6v9yoDSXQdkeAf0nPmKHGqDmx9zzz at 0x2252ee14cc0> JSON: {\n",
       "  \"choices\": [\n",
       "    {\n",
       "      \"finish_reason\": \"stop\",\n",
       "      \"index\": 0,\n",
       "      \"logprobs\": null,\n",
       "      \"text\": \"\\n\\nI don't know.\"\n",
       "    }\n",
       "  ],\n",
       "  \"created\": 1679081078,\n",
       "  \"id\": \"cmpl-6v9yoDSXQdkeAf0nPmKHGqDmx9zzz\",\n",
       "  \"model\": \"text-davinci-003\",\n",
       "  \"object\": \"text_completion\",\n",
       "  \"usage\": {\n",
       "    \"completion_tokens\": 7,\n",
       "    \"prompt_tokens\": 39,\n",
       "    \"total_tokens\": 46\n",
       "  }\n",
       "}"
      ]
     },
     "execution_count": 9,
     "metadata": {},
     "output_type": "execute_result"
    }
   ],
   "source": [
    "response"
   ]
  },
  {
   "cell_type": "code",
   "execution_count": 10,
   "id": "9e00d0d2-9200-41cb-be57-27ba22ab80f3",
   "metadata": {
    "tags": []
   },
   "outputs": [
    {
     "name": "stdout",
     "output_type": "stream",
     "text": [
      "\n",
      "\n",
      "I don't know.\n"
     ]
    }
   ],
   "source": [
    "print(response['choices'][0]['text'])"
   ]
  }
 ],
 "metadata": {
  "kernelspec": {
   "display_name": "Python 3 (ipykernel)",
   "language": "python",
   "name": "python3"
  },
  "language_info": {
   "codemirror_mode": {
    "name": "ipython",
    "version": 3
   },
   "file_extension": ".py",
   "mimetype": "text/x-python",
   "name": "python",
   "nbconvert_exporter": "python",
   "pygments_lexer": "ipython3",
   "version": "3.10.9"
  }
 },
 "nbformat": 4,
 "nbformat_minor": 5
}
