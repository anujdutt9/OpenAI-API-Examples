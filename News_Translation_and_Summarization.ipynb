{
 "cells": [
  {
   "cell_type": "code",
   "execution_count": 1,
   "id": "0dd6cba0-ded8-4d65-a9ad-d81e352da7e8",
   "metadata": {},
   "outputs": [],
   "source": [
    "import os\n",
    "import requests\n",
    "import bs4\n",
    "import openai"
   ]
  },
  {
   "cell_type": "code",
   "execution_count": 2,
   "id": "4233bb62-f48a-4b20-bc4a-41da32459d5b",
   "metadata": {},
   "outputs": [],
   "source": [
    "# Read API Key\n",
    "with open('API_KEY.txt') as f:\n",
    "    api_key = f.readlines()[0]\n",
    "\n",
    "# Set API Key\n",
    "openai.api_key = api_key"
   ]
  },
  {
   "cell_type": "markdown",
   "id": "1fe3278f-ef2f-424f-8531-ce544e427eb2",
   "metadata": {},
   "source": [
    "## News Translation & Summarization\n",
    "\n",
    "Summarize news from any country.\n",
    "\n",
    "Steps:\n",
    "\n",
    "```\n",
    "1. Accept user's request for news of a creain country\n",
    "2. Scrape news from a newspaper for that country\n",
    "3. Send this data to OpenAI API to Translate & Summarize\n",
    "```\n",
    "\n",
    "NOTE: OpenAI inherently is not trained on Translation tasks. Also, for other languages -> English, this works better as compared to other way around."
   ]
  },
  {
   "cell_type": "code",
   "execution_count": 3,
   "id": "1a0ac837-c31d-43c3-a7de-858cc9cc5f15",
   "metadata": {},
   "outputs": [],
   "source": [
    "# Country: (URL, TAG)\n",
    "country_newspapers = {\n",
    "    \"Spain\": (\"https://elpais.com/\", '.c_t'),\n",
    "    \"France\": (\"https://www.lemonde.fr/\", '.article__title'),\n",
    "    \"India\": (\"https://www.thehindu.com/hindi/\", '.title')\n",
    "}"
   ]
  },
  {
   "cell_type": "markdown",
   "id": "d531e351-4b9e-48d7-bd25-6bd8e6fcd754",
   "metadata": {},
   "source": [
    "## Send Translation Request to OpenAI"
   ]
  },
  {
   "cell_type": "code",
   "execution_count": 4,
   "id": "1cf8c902-7e32-4681-8280-a1269c7ee713",
   "metadata": {},
   "outputs": [],
   "source": [
    "def create_prompt():\n",
    "    country = input(\"What country would you like a news summary for? \")\n",
    "    try:\n",
    "        url, tag = country_newspapers[country]\n",
    "    except:\n",
    "        print(\"Sorry, Country not supported\")\n",
    "        return\n",
    "    \n",
    "    results = requests.get(url)\n",
    "    # Create Soup\n",
    "    soup = bs4.BeautifulSoup(results.text, 'lxml')\n",
    "    country_headlines = ''\n",
    "    \n",
    "    # Top 5 News Headlines\n",
    "    for item in soup.select(str(tag))[:5]:\n",
    "        country_headlines += item.getText() + \"\\n\"\n",
    "    \n",
    "    # OpenAI Prompt\n",
    "    prompt = \"Detect the language of the news headlines below, then translate a summary of the headlines to English in a conversational tone.\\n\"\n",
    "    \n",
    "    return prompt + country_headlines"
   ]
  },
  {
   "cell_type": "code",
   "execution_count": 5,
   "id": "26e3ffc0-153c-4be8-a8ff-39020d10a2c6",
   "metadata": {},
   "outputs": [
    {
     "name": "stdin",
     "output_type": "stream",
     "text": [
      "What country would you like a news summary for?  India\n"
     ]
    }
   ],
   "source": [
    "prompt = create_prompt()"
   ]
  },
  {
   "cell_type": "code",
   "execution_count": 6,
   "id": "e232e394-1daa-4259-831e-cb3733ae6659",
   "metadata": {},
   "outputs": [
    {
     "name": "stdout",
     "output_type": "stream",
     "text": [
      "Detect the language of the news headlines below, then translate a summary of the headlines to English in a conversational tone.\n",
      " बैंकिंग संकट के सबक: सिलीकॉन वैली बैंक प्रकरण \n",
      " तीखे विभाजन: “ऑकस” त्रिपक्षीय रक्षा समझौते के निहितार्थ \n",
      " स्पिन की दिक्कत : भारतीय टीम और वर्ल्ड टेस्ट चैंपियनशिप \n",
      " सदन की कार्रवाईः संसद में गतिरोध \n",
      "\n",
      "अंतहीन देरी: राज्यपालों का आचरण और विधायी एजेंडा \n",
      "\n"
     ]
    }
   ],
   "source": [
    "print(prompt)"
   ]
  },
  {
   "cell_type": "code",
   "execution_count": 7,
   "id": "a592bb85-ca6b-4aad-a381-2cfb33c2ce4c",
   "metadata": {},
   "outputs": [],
   "source": [
    "# Send to OpenAI\n",
    "response = openai.Completion.create(\n",
    "    model='text-davinci-003',\n",
    "    prompt=prompt,\n",
    "    max_tokens=512,\n",
    "    temperature=0.1,\n",
    "    top_p=1.0,\n",
    ")"
   ]
  },
  {
   "cell_type": "code",
   "execution_count": 9,
   "id": "6cc623d4-560d-4326-bbd9-bd0482c2a4c1",
   "metadata": {},
   "outputs": [
    {
     "name": "stdout",
     "output_type": "stream",
     "text": [
      "\n",
      "Language: Hindi\n",
      "\n",
      "Translation: The banking crisis has been a major issue, with the Silicone Valley Bank case being a prime example. The \"Oaks\" trilateral defense agreement was signed in order to address the issue. The Indian team and the World Test Championship have been facing difficulties. There has been a slowdown in the Parliament. The behavior of the state governors and the functioning of the legislative agency has been delayed.\n"
     ]
    }
   ],
   "source": [
    "print(response['choices'][0]['text'])"
   ]
  }
 ],
 "metadata": {
  "kernelspec": {
   "display_name": "Python 3 (ipykernel)",
   "language": "python",
   "name": "python3"
  },
  "language_info": {
   "codemirror_mode": {
    "name": "ipython",
    "version": 3
   },
   "file_extension": ".py",
   "mimetype": "text/x-python",
   "name": "python",
   "nbconvert_exporter": "python",
   "pygments_lexer": "ipython3",
   "version": "3.10.9"
  }
 },
 "nbformat": 4,
 "nbformat_minor": 5
}
