{
 "cells": [
  {
   "cell_type": "code",
   "execution_count": 1,
   "id": "7fba29f2-e3ef-4a2a-b863-05fd08437475",
   "metadata": {
    "tags": []
   },
   "outputs": [],
   "source": [
    "import os\n",
    "import inspect\n",
    "import openai"
   ]
  },
  {
   "cell_type": "code",
   "execution_count": 2,
   "id": "9bedf92c-48f0-4d99-a71b-4da523040704",
   "metadata": {
    "tags": []
   },
   "outputs": [],
   "source": [
    "# Read API Key\n",
    "with open('API_KEY.txt') as f:\n",
    "    api_key = f.readlines()[0]\n",
    "\n",
    "# Set API Key\n",
    "openai.api_key = api_key"
   ]
  },
  {
   "cell_type": "markdown",
   "id": "a6e9b01a-df20-4e09-9240-14bfff009cdb",
   "metadata": {},
   "source": [
    "## Automatic Code Explainer\n",
    "\n",
    "Aim - Given an existing code in any language, generate Docstring for the code to improve code explainability.\n",
    "\n",
    "Rules for now:\n",
    "```\n",
    "1. Code is always written in Python.\n",
    "2. Code is always a function.\n",
    "3. Docstring starts and ends with \"\"\" \"\"\"  or ''' '''\n",
    "```"
   ]
  },
  {
   "cell_type": "code",
   "execution_count": 3,
   "id": "2ee61e58-1d93-4041-9cf7-6275ffa2e233",
   "metadata": {
    "tags": []
   },
   "outputs": [],
   "source": [
    "# Sample fucntion to train a PyTorch Model\n",
    "def train(model, train_loader, device, criterion, optimizer):\n",
    "    model.train()\n",
    "    running_loss = AverageMeter()\n",
    "\n",
    "    for data in train_loader:\n",
    "        inputs, labels = data\n",
    "\n",
    "        inputs = inputs.to(device)\n",
    "        labels = labels.to(device)\n",
    "\n",
    "        prediction = model(inputs)\n",
    "        loss = criterion(prediction, labels)\n",
    "        running_loss.update(loss.item(), len(inputs))\n",
    "\n",
    "        optimizer.zero_grad()\n",
    "        loss.backward()\n",
    "        optimizer.step()\n",
    "\n",
    "    return running_loss"
   ]
  },
  {
   "cell_type": "code",
   "execution_count": 4,
   "id": "47471ff2-a4c0-4817-b379-2303a31afe13",
   "metadata": {
    "tags": []
   },
   "outputs": [],
   "source": [
    "def docstring_prompt(code):\n",
    "    prompt = f\"{code}\\n # A high quality python docstring of the above Python function:\\n \\\"\\\"\\\"\"\n",
    "    return prompt"
   ]
  },
  {
   "cell_type": "code",
   "execution_count": 5,
   "id": "992bc967-5ecc-4fa2-afa9-b3f438539007",
   "metadata": {
    "tags": []
   },
   "outputs": [
    {
     "name": "stdout",
     "output_type": "stream",
     "text": [
      "def train(model, train_loader, device, criterion, optimizer):\n",
      "    model.train()\n",
      "    running_loss = AverageMeter()\n",
      "\n",
      "    for data in train_loader:\n",
      "        inputs, labels = data\n",
      "\n",
      "        inputs = inputs.to(device)\n",
      "        labels = labels.to(device)\n",
      "\n",
      "        prediction = model(inputs)\n",
      "        loss = criterion(prediction, labels)\n",
      "        running_loss.update(loss.item(), len(inputs))\n",
      "\n",
      "        optimizer.zero_grad()\n",
      "        loss.backward()\n",
      "        optimizer.step()\n",
      "\n",
      "    return running_loss\n",
      "\n"
     ]
    }
   ],
   "source": [
    "# Convert Python Code/Function to String to pass as input\n",
    "print(inspect.getsource(train))"
   ]
  },
  {
   "cell_type": "code",
   "execution_count": 6,
   "id": "4d070fea-8950-425e-9ce0-61e167b5cc85",
   "metadata": {
    "tags": []
   },
   "outputs": [
    {
     "name": "stdout",
     "output_type": "stream",
     "text": [
      "def train(model, train_loader, device, criterion, optimizer):\n",
      "    model.train()\n",
      "    running_loss = AverageMeter()\n",
      "\n",
      "    for data in train_loader:\n",
      "        inputs, labels = data\n",
      "\n",
      "        inputs = inputs.to(device)\n",
      "        labels = labels.to(device)\n",
      "\n",
      "        prediction = model(inputs)\n",
      "        loss = criterion(prediction, labels)\n",
      "        running_loss.update(loss.item(), len(inputs))\n",
      "\n",
      "        optimizer.zero_grad()\n",
      "        loss.backward()\n",
      "        optimizer.step()\n",
      "\n",
      "    return running_loss\n",
      "\n",
      " # A high quality python docstring of the above Python function:\n",
      " \"\"\"\n"
     ]
    }
   ],
   "source": [
    "print(docstring_prompt(inspect.getsource(train)))"
   ]
  },
  {
   "cell_type": "code",
   "execution_count": 7,
   "id": "f4c64efb-1b09-4ff9-a105-f9916256473d",
   "metadata": {
    "tags": []
   },
   "outputs": [],
   "source": [
    "# API Call\n",
    "# Codex Models - https://platform.openai.com/docs/models/codex\n",
    "response = openai.Completion.create(model='code-cushman-001', # code-davinci-002, code-cushman-001\n",
    "                                   prompt=docstring_prompt(inspect.getsource(train)),\n",
    "                                   temperature=0,\n",
    "                                   max_tokens=512,\n",
    "                                   top_p=1.0,\n",
    "                                   frequency_penalty=0,\n",
    "                                   presence_penalty=0,\n",
    "                                   stop=[\"\\\"\\\"\\\"\"])   # Stop Token - Marks end of DocString"
   ]
  },
  {
   "cell_type": "code",
   "execution_count": 8,
   "id": "3b556a3c-731c-4142-825e-ad92cca389ab",
   "metadata": {
    "tags": []
   },
   "outputs": [
    {
     "data": {
      "text/plain": [
       "<OpenAIObject text_completion id=cmpl-6vDbJ18NfgEWAoZpC4boAEjFlKVSg at 0x21f49afef70> JSON: {\n",
       "  \"choices\": [\n",
       "    {\n",
       "      \"finish_reason\": \"stop\",\n",
       "      \"index\": 0,\n",
       "      \"logprobs\": null,\n",
       "      \"text\": \"\\n This function trains the model on the training set.\\n \\n Parameters:\\n    model (torch.nn.Module): The model to be trained.\\n    train_loader (torch.utils.data.DataLoader): The training set.\\n    device (torch.device): The device to train the model on.\\n    criterion (torch.nn.modules.loss): The loss function to use.\\n    optimizer (torch.optim.Optimizer): The optimizer to use.\\n \\n Returns:\\n    running_loss (AverageMeter): The running loss of the training.\\n \"\n",
       "    }\n",
       "  ],\n",
       "  \"created\": 1679094997,\n",
       "  \"id\": \"cmpl-6vDbJ18NfgEWAoZpC4boAEjFlKVSg\",\n",
       "  \"model\": \"code-cushman-001\",\n",
       "  \"object\": \"text_completion\",\n",
       "  \"usage\": {\n",
       "    \"completion_tokens\": 133,\n",
       "    \"prompt_tokens\": 150,\n",
       "    \"total_tokens\": 283\n",
       "  }\n",
       "}"
      ]
     },
     "execution_count": 8,
     "metadata": {},
     "output_type": "execute_result"
    }
   ],
   "source": [
    "response"
   ]
  },
  {
   "cell_type": "code",
   "execution_count": 9,
   "id": "69cc1feb-196e-4961-bdad-688983ac3483",
   "metadata": {
    "tags": []
   },
   "outputs": [
    {
     "name": "stdout",
     "output_type": "stream",
     "text": [
      "\n",
      " This function trains the model on the training set.\n",
      " \n",
      " Parameters:\n",
      "    model (torch.nn.Module): The model to be trained.\n",
      "    train_loader (torch.utils.data.DataLoader): The training set.\n",
      "    device (torch.device): The device to train the model on.\n",
      "    criterion (torch.nn.modules.loss): The loss function to use.\n",
      "    optimizer (torch.optim.Optimizer): The optimizer to use.\n",
      " \n",
      " Returns:\n",
      "    running_loss (AverageMeter): The running loss of the training.\n",
      " \n"
     ]
    }
   ],
   "source": [
    "print(response['choices'][0]['text'])"
   ]
  },
  {
   "cell_type": "code",
   "execution_count": 10,
   "id": "334f9332-21a1-4c45-90f7-be44b57b792b",
   "metadata": {
    "tags": []
   },
   "outputs": [],
   "source": [
    "def merge_docstring(orig_function, docstring):\n",
    "    function_string = inspect.getsource(orig_function)\n",
    "    split = function_string.split(\"\\n\")\n",
    "    first_part, second_part = split[0], split[1:]\n",
    "    output = first_part + '\\n    \"\"\"' + docstring + '    \"\"\"' + '\\n' + '\\n'.join(second_part)\n",
    "    return output"
   ]
  },
  {
   "cell_type": "code",
   "execution_count": 15,
   "id": "e33c0e37-f7a1-4869-a410-b5a6b312d0ac",
   "metadata": {
    "tags": []
   },
   "outputs": [
    {
     "name": "stdout",
     "output_type": "stream",
     "text": [
      "def train(model, train_loader, device, criterion, optimizer):\n",
      "    \"\"\"\n",
      " This function trains the model on the training set.\n",
      " \n",
      " Parameters:\n",
      "    model (torch.nn.Module): The model to be trained.\n",
      "    train_loader (torch.utils.data.DataLoader): The training set.\n",
      "    device (torch.device): The device to train the model on.\n",
      "    criterion (torch.nn.modules.loss): The loss function to use.\n",
      "    optimizer (torch.optim.Optimizer): The optimizer to use.\n",
      " \n",
      " Returns:\n",
      "    running_loss (AverageMeter): The running loss of the training.\n",
      "     \"\"\"\n",
      "    model.train()\n",
      "    running_loss = AverageMeter()\n",
      "\n",
      "    for data in train_loader:\n",
      "        inputs, labels = data\n",
      "\n",
      "        inputs = inputs.to(device)\n",
      "        labels = labels.to(device)\n",
      "\n",
      "        prediction = model(inputs)\n",
      "        loss = criterion(prediction, labels)\n",
      "        running_loss.update(loss.item(), len(inputs))\n",
      "\n",
      "        optimizer.zero_grad()\n",
      "        loss.backward()\n",
      "        optimizer.step()\n",
      "\n",
      "    return running_loss\n",
      "\n"
     ]
    }
   ],
   "source": [
    "function_with_prompts = merge_docstring(train, response['choices'][0]['text'])\n",
    "print(function_with_prompts)"
   ]
  },
  {
   "cell_type": "code",
   "execution_count": 14,
   "id": "743434b7-ccb4-4cf6-b995-d4335d8a3d96",
   "metadata": {
    "tags": []
   },
   "outputs": [],
   "source": [
    "# Write function with DocString to Python file\n",
    "with open('output_withdocstring.py', 'w') as f:\n",
    "    f.write(function_with_prompts)"
   ]
  }
 ],
 "metadata": {
  "kernelspec": {
   "display_name": "Python 3 (ipykernel)",
   "language": "python",
   "name": "python3"
  },
  "language_info": {
   "codemirror_mode": {
    "name": "ipython",
    "version": 3
   },
   "file_extension": ".py",
   "mimetype": "text/x-python",
   "name": "python",
   "nbconvert_exporter": "python",
   "pygments_lexer": "ipython3",
   "version": "3.10.9"
  }
 },
 "nbformat": 4,
 "nbformat_minor": 5
}
