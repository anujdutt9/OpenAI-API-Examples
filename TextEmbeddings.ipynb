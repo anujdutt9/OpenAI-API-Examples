{
 "cells": [
  {
   "cell_type": "code",
   "execution_count": 1,
   "id": "42c444ea-99a7-4d72-86a6-58fbe0476b54",
   "metadata": {},
   "outputs": [],
   "source": [
    "import os\n",
    "import pandas as pd\n",
    "import numpy as np\n",
    "import ast\n",
    "import tiktoken\n",
    "import openai"
   ]
  },
  {
   "cell_type": "code",
   "execution_count": 2,
   "id": "0179f6b8-35b3-4816-a034-782304aec9ba",
   "metadata": {},
   "outputs": [],
   "source": [
    "# Read API Key\n",
    "with open('API_KEY.txt') as f:\n",
    "    api_key = f.readlines()[0]\n",
    "\n",
    "# Set API Key\n",
    "openai.api_key = api_key"
   ]
  },
  {
   "cell_type": "markdown",
   "id": "2932e36e-167b-4043-b3fa-cf498ca34e15",
   "metadata": {},
   "source": [
    "## Text Embedding Project\n",
    "\n",
    "Steps:\n",
    "\n",
    "```\n",
    "1. Ask question about a startup that recently launched or properietary data like corporate documentation and it's data is not in OpenAI model dataset.\n",
    "2. Rather than finetuning the model, add a context to the query (prompt) via document search.\n",
    "3. Conduct search using text embeddings.\n",
    "```\n",
    "\n",
    "## Working\n",
    "\n",
    "```\n",
    "1. Convert User Query -> Text Embeddings (Vector Representation of User Query)\n",
    "2. Convert Relevant Set of Documents (Properiotary)  ->  Text Embeddings (Vector Representation of all Relevant Documents)\n",
    "3. Perform Consine/other Similarity Measure between the above two Vectors.\n",
    "4. Find most relevant Document Vector that the Query vector was representing.\n",
    "5. Send that document as additional context with the Original Query to OpenAI Completion API\n",
    "```"
   ]
  },
  {
   "cell_type": "code",
   "execution_count": 3,
   "id": "57113834-b449-4845-83bc-0f9d9262c1d4",
   "metadata": {},
   "outputs": [],
   "source": [
    "# Model Hallucination - https://pentera.io/\n",
    "# MY_PROMPT = \"What does the start-up company Pentera do and who invested in it?\"\n",
    "\n",
    "# Prompt Engineering\n",
    "MY_PROMPT = '''Only answert the question below if you have 100% certainity of the facts.\n",
    "\n",
    "Q: What does the start-up company Pentera do and who invested in it?\n",
    "A:\n",
    "'''"
   ]
  },
  {
   "cell_type": "code",
   "execution_count": 4,
   "id": "c313e7f6-aab7-470f-9f10-088e24d310a3",
   "metadata": {},
   "outputs": [],
   "source": [
    "response = openai.Completion.create(\n",
    "    model='text-davinci-003',\n",
    "    prompt=MY_PROMPT,\n",
    "    max_tokens=256,\n",
    "    temperature=0,\n",
    ")"
   ]
  },
  {
   "cell_type": "code",
   "execution_count": 5,
   "id": "fea01962-0ce2-4391-8eb4-01ab05c83f0c",
   "metadata": {},
   "outputs": [
    {
     "name": "stdout",
     "output_type": "stream",
     "text": [
      "I cannot answer this question with 100% certainty.\n"
     ]
    }
   ],
   "source": [
    "print(response['choices'][0]['text'])"
   ]
  },
  {
   "cell_type": "markdown",
   "id": "da7164ec-7029-4ff2-a63c-80a73012e179",
   "metadata": {},
   "source": [
    "## Data Formatting"
   ]
  },
  {
   "cell_type": "code",
   "execution_count": 6,
   "id": "1488e42f-6a7d-4a2c-bc2e-b523263ca012",
   "metadata": {},
   "outputs": [
    {
     "data": {
      "text/html": [
       "<div>\n",
       "<style scoped>\n",
       "    .dataframe tbody tr th:only-of-type {\n",
       "        vertical-align: middle;\n",
       "    }\n",
       "\n",
       "    .dataframe tbody tr th {\n",
       "        vertical-align: top;\n",
       "    }\n",
       "\n",
       "    .dataframe thead th {\n",
       "        text-align: right;\n",
       "    }\n",
       "</style>\n",
       "<table border=\"1\" class=\"dataframe\">\n",
       "  <thead>\n",
       "    <tr style=\"text-align: right;\">\n",
       "      <th></th>\n",
       "      <th>Updated at</th>\n",
       "      <th>Company</th>\n",
       "      <th>Crunchbase Url</th>\n",
       "      <th>Last Valuation (Billion $)</th>\n",
       "      <th>Date Joined</th>\n",
       "      <th>Year Joined</th>\n",
       "      <th>City</th>\n",
       "      <th>Country</th>\n",
       "      <th>Industry</th>\n",
       "      <th>Investors</th>\n",
       "      <th>Company Website</th>\n",
       "    </tr>\n",
       "  </thead>\n",
       "  <tbody>\n",
       "    <tr>\n",
       "      <th>0</th>\n",
       "      <td>10/31/2022, 2:37:05 AM</td>\n",
       "      <td>Esusu</td>\n",
       "      <td>https://www.cbinsights.com/company/esusu</td>\n",
       "      <td>1.0</td>\n",
       "      <td>1/27/2022</td>\n",
       "      <td>2022</td>\n",
       "      <td>New York</td>\n",
       "      <td>United States</td>\n",
       "      <td>Fintech</td>\n",
       "      <td>[\"Next Play Ventures\",\"Zeal Capital Partners\",...</td>\n",
       "      <td>NaN</td>\n",
       "    </tr>\n",
       "    <tr>\n",
       "      <th>1</th>\n",
       "      <td>10/31/2022, 2:37:05 AM</td>\n",
       "      <td>Fever Labs</td>\n",
       "      <td>https://www.cbinsights.com/company/fever-labs</td>\n",
       "      <td>1.0</td>\n",
       "      <td>1/26/2022</td>\n",
       "      <td>2022</td>\n",
       "      <td>New York</td>\n",
       "      <td>United States</td>\n",
       "      <td>Internet software &amp; services</td>\n",
       "      <td>[\"Accel\",\"14W\",\"GS Growth\"]</td>\n",
       "      <td>NaN</td>\n",
       "    </tr>\n",
       "    <tr>\n",
       "      <th>2</th>\n",
       "      <td>10/31/2022, 2:37:04 AM</td>\n",
       "      <td>Minio</td>\n",
       "      <td>https://www.cbinsights.com/company/minio</td>\n",
       "      <td>1.0</td>\n",
       "      <td>1/26/2022</td>\n",
       "      <td>2022</td>\n",
       "      <td>Palo Alto</td>\n",
       "      <td>United States</td>\n",
       "      <td>Data management &amp; analytics</td>\n",
       "      <td>[\"General Catalyst\",\"Nexus Venture Partners\",\"...</td>\n",
       "      <td>NaN</td>\n",
       "    </tr>\n",
       "    <tr>\n",
       "      <th>3</th>\n",
       "      <td>10/31/2022, 2:37:04 AM</td>\n",
       "      <td>Darwinbox</td>\n",
       "      <td>https://www.cbinsights.com/company/darwinbox</td>\n",
       "      <td>1.0</td>\n",
       "      <td>1/25/2022</td>\n",
       "      <td>2022</td>\n",
       "      <td>Hyderabad</td>\n",
       "      <td>India</td>\n",
       "      <td>Internet software &amp; services</td>\n",
       "      <td>[\"Lightspeed India Partners\",\"Sequoia Capital ...</td>\n",
       "      <td>NaN</td>\n",
       "    </tr>\n",
       "    <tr>\n",
       "      <th>4</th>\n",
       "      <td>10/31/2022, 2:37:04 AM</td>\n",
       "      <td>Pentera</td>\n",
       "      <td>https://www.cbinsights.com/company/pcysys</td>\n",
       "      <td>1.0</td>\n",
       "      <td>1/11/2022</td>\n",
       "      <td>2022</td>\n",
       "      <td>Petah Tikva</td>\n",
       "      <td>Israel</td>\n",
       "      <td>Cybersecurity</td>\n",
       "      <td>[\"AWZ Ventures\",\"Blackstone\",\"Insight Partners\"]</td>\n",
       "      <td>NaN</td>\n",
       "    </tr>\n",
       "  </tbody>\n",
       "</table>\n",
       "</div>"
      ],
      "text/plain": [
       "               Updated at     Company  \\\n",
       "0  10/31/2022, 2:37:05 AM       Esusu   \n",
       "1  10/31/2022, 2:37:05 AM  Fever Labs   \n",
       "2  10/31/2022, 2:37:04 AM       Minio   \n",
       "3  10/31/2022, 2:37:04 AM   Darwinbox   \n",
       "4  10/31/2022, 2:37:04 AM     Pentera   \n",
       "\n",
       "                                  Crunchbase Url  Last Valuation (Billion $)  \\\n",
       "0       https://www.cbinsights.com/company/esusu                         1.0   \n",
       "1  https://www.cbinsights.com/company/fever-labs                         1.0   \n",
       "2       https://www.cbinsights.com/company/minio                         1.0   \n",
       "3   https://www.cbinsights.com/company/darwinbox                         1.0   \n",
       "4      https://www.cbinsights.com/company/pcysys                         1.0   \n",
       "\n",
       "  Date Joined  Year Joined         City        Country  \\\n",
       "0   1/27/2022         2022     New York  United States   \n",
       "1   1/26/2022         2022     New York  United States   \n",
       "2   1/26/2022         2022    Palo Alto  United States   \n",
       "3   1/25/2022         2022    Hyderabad          India   \n",
       "4   1/11/2022         2022  Petah Tikva         Israel   \n",
       "\n",
       "                       Industry  \\\n",
       "0                       Fintech   \n",
       "1  Internet software & services   \n",
       "2   Data management & analytics   \n",
       "3  Internet software & services   \n",
       "4                Cybersecurity    \n",
       "\n",
       "                                           Investors  Company Website  \n",
       "0  [\"Next Play Ventures\",\"Zeal Capital Partners\",...              NaN  \n",
       "1                        [\"Accel\",\"14W\",\"GS Growth\"]              NaN  \n",
       "2  [\"General Catalyst\",\"Nexus Venture Partners\",\"...              NaN  \n",
       "3  [\"Lightspeed India Partners\",\"Sequoia Capital ...              NaN  \n",
       "4   [\"AWZ Ventures\",\"Blackstone\",\"Insight Partners\"]              NaN  "
      ]
     },
     "execution_count": 6,
     "metadata": {},
     "output_type": "execute_result"
    }
   ],
   "source": [
    "df = pd.read_csv(\"data/unicorns.csv\")\n",
    "df.head()"
   ]
  },
  {
   "cell_type": "code",
   "execution_count": 7,
   "id": "c52468e4-b402-4907-9a19-00136c211a99",
   "metadata": {},
   "outputs": [],
   "source": [
    "def summary(company, crunchbase_url, city, country, industry, investor_list):\n",
    "    investors = \"The investors in the company are\"\n",
    "    for investor in ast.literal_eval(investor_list):\n",
    "        investors += f\" {investor},\"\n",
    "    \n",
    "    text = f\"{company} has headquaters in {city} in {country} and is in the field of {industry}. {investors}. More info at {crunchbase_url}.\"\n",
    "    return text"
   ]
  },
  {
   "cell_type": "code",
   "execution_count": 8,
   "id": "c2c0101c-3138-4b2b-b0fc-d81e6bead149",
   "metadata": {},
   "outputs": [],
   "source": [
    "# Add Summary Column\n",
    "df['summary'] = df.apply(lambda df: summary(df['Company'], \n",
    "                                            df['Crunchbase Url'], \n",
    "                                            df['City'], \n",
    "                                            df['Country'], \n",
    "                                            df['Industry'], \n",
    "                                            df['Investors']), \n",
    "                         axis=1)"
   ]
  },
  {
   "cell_type": "code",
   "execution_count": 9,
   "id": "c46ce784-6613-46ec-bb95-492607e0e696",
   "metadata": {},
   "outputs": [
    {
     "data": {
      "text/html": [
       "<div>\n",
       "<style scoped>\n",
       "    .dataframe tbody tr th:only-of-type {\n",
       "        vertical-align: middle;\n",
       "    }\n",
       "\n",
       "    .dataframe tbody tr th {\n",
       "        vertical-align: top;\n",
       "    }\n",
       "\n",
       "    .dataframe thead th {\n",
       "        text-align: right;\n",
       "    }\n",
       "</style>\n",
       "<table border=\"1\" class=\"dataframe\">\n",
       "  <thead>\n",
       "    <tr style=\"text-align: right;\">\n",
       "      <th></th>\n",
       "      <th>Updated at</th>\n",
       "      <th>Company</th>\n",
       "      <th>Crunchbase Url</th>\n",
       "      <th>Last Valuation (Billion $)</th>\n",
       "      <th>Date Joined</th>\n",
       "      <th>Year Joined</th>\n",
       "      <th>City</th>\n",
       "      <th>Country</th>\n",
       "      <th>Industry</th>\n",
       "      <th>Investors</th>\n",
       "      <th>Company Website</th>\n",
       "      <th>summary</th>\n",
       "    </tr>\n",
       "  </thead>\n",
       "  <tbody>\n",
       "    <tr>\n",
       "      <th>0</th>\n",
       "      <td>10/31/2022, 2:37:05 AM</td>\n",
       "      <td>Esusu</td>\n",
       "      <td>https://www.cbinsights.com/company/esusu</td>\n",
       "      <td>1.0</td>\n",
       "      <td>1/27/2022</td>\n",
       "      <td>2022</td>\n",
       "      <td>New York</td>\n",
       "      <td>United States</td>\n",
       "      <td>Fintech</td>\n",
       "      <td>[\"Next Play Ventures\",\"Zeal Capital Partners\",...</td>\n",
       "      <td>NaN</td>\n",
       "      <td>Esusu has headquaters in New York in United St...</td>\n",
       "    </tr>\n",
       "    <tr>\n",
       "      <th>1</th>\n",
       "      <td>10/31/2022, 2:37:05 AM</td>\n",
       "      <td>Fever Labs</td>\n",
       "      <td>https://www.cbinsights.com/company/fever-labs</td>\n",
       "      <td>1.0</td>\n",
       "      <td>1/26/2022</td>\n",
       "      <td>2022</td>\n",
       "      <td>New York</td>\n",
       "      <td>United States</td>\n",
       "      <td>Internet software &amp; services</td>\n",
       "      <td>[\"Accel\",\"14W\",\"GS Growth\"]</td>\n",
       "      <td>NaN</td>\n",
       "      <td>Fever Labs has headquaters in New York in Unit...</td>\n",
       "    </tr>\n",
       "    <tr>\n",
       "      <th>2</th>\n",
       "      <td>10/31/2022, 2:37:04 AM</td>\n",
       "      <td>Minio</td>\n",
       "      <td>https://www.cbinsights.com/company/minio</td>\n",
       "      <td>1.0</td>\n",
       "      <td>1/26/2022</td>\n",
       "      <td>2022</td>\n",
       "      <td>Palo Alto</td>\n",
       "      <td>United States</td>\n",
       "      <td>Data management &amp; analytics</td>\n",
       "      <td>[\"General Catalyst\",\"Nexus Venture Partners\",\"...</td>\n",
       "      <td>NaN</td>\n",
       "      <td>Minio has headquaters in Palo Alto in United S...</td>\n",
       "    </tr>\n",
       "    <tr>\n",
       "      <th>3</th>\n",
       "      <td>10/31/2022, 2:37:04 AM</td>\n",
       "      <td>Darwinbox</td>\n",
       "      <td>https://www.cbinsights.com/company/darwinbox</td>\n",
       "      <td>1.0</td>\n",
       "      <td>1/25/2022</td>\n",
       "      <td>2022</td>\n",
       "      <td>Hyderabad</td>\n",
       "      <td>India</td>\n",
       "      <td>Internet software &amp; services</td>\n",
       "      <td>[\"Lightspeed India Partners\",\"Sequoia Capital ...</td>\n",
       "      <td>NaN</td>\n",
       "      <td>Darwinbox has headquaters in Hyderabad in Indi...</td>\n",
       "    </tr>\n",
       "    <tr>\n",
       "      <th>4</th>\n",
       "      <td>10/31/2022, 2:37:04 AM</td>\n",
       "      <td>Pentera</td>\n",
       "      <td>https://www.cbinsights.com/company/pcysys</td>\n",
       "      <td>1.0</td>\n",
       "      <td>1/11/2022</td>\n",
       "      <td>2022</td>\n",
       "      <td>Petah Tikva</td>\n",
       "      <td>Israel</td>\n",
       "      <td>Cybersecurity</td>\n",
       "      <td>[\"AWZ Ventures\",\"Blackstone\",\"Insight Partners\"]</td>\n",
       "      <td>NaN</td>\n",
       "      <td>Pentera has headquaters in Petah Tikva in Isra...</td>\n",
       "    </tr>\n",
       "  </tbody>\n",
       "</table>\n",
       "</div>"
      ],
      "text/plain": [
       "               Updated at     Company  \\\n",
       "0  10/31/2022, 2:37:05 AM       Esusu   \n",
       "1  10/31/2022, 2:37:05 AM  Fever Labs   \n",
       "2  10/31/2022, 2:37:04 AM       Minio   \n",
       "3  10/31/2022, 2:37:04 AM   Darwinbox   \n",
       "4  10/31/2022, 2:37:04 AM     Pentera   \n",
       "\n",
       "                                  Crunchbase Url  Last Valuation (Billion $)  \\\n",
       "0       https://www.cbinsights.com/company/esusu                         1.0   \n",
       "1  https://www.cbinsights.com/company/fever-labs                         1.0   \n",
       "2       https://www.cbinsights.com/company/minio                         1.0   \n",
       "3   https://www.cbinsights.com/company/darwinbox                         1.0   \n",
       "4      https://www.cbinsights.com/company/pcysys                         1.0   \n",
       "\n",
       "  Date Joined  Year Joined         City        Country  \\\n",
       "0   1/27/2022         2022     New York  United States   \n",
       "1   1/26/2022         2022     New York  United States   \n",
       "2   1/26/2022         2022    Palo Alto  United States   \n",
       "3   1/25/2022         2022    Hyderabad          India   \n",
       "4   1/11/2022         2022  Petah Tikva         Israel   \n",
       "\n",
       "                       Industry  \\\n",
       "0                       Fintech   \n",
       "1  Internet software & services   \n",
       "2   Data management & analytics   \n",
       "3  Internet software & services   \n",
       "4                Cybersecurity    \n",
       "\n",
       "                                           Investors  Company Website  \\\n",
       "0  [\"Next Play Ventures\",\"Zeal Capital Partners\",...              NaN   \n",
       "1                        [\"Accel\",\"14W\",\"GS Growth\"]              NaN   \n",
       "2  [\"General Catalyst\",\"Nexus Venture Partners\",\"...              NaN   \n",
       "3  [\"Lightspeed India Partners\",\"Sequoia Capital ...              NaN   \n",
       "4   [\"AWZ Ventures\",\"Blackstone\",\"Insight Partners\"]              NaN   \n",
       "\n",
       "                                             summary  \n",
       "0  Esusu has headquaters in New York in United St...  \n",
       "1  Fever Labs has headquaters in New York in Unit...  \n",
       "2  Minio has headquaters in Palo Alto in United S...  \n",
       "3  Darwinbox has headquaters in Hyderabad in Indi...  \n",
       "4  Pentera has headquaters in Petah Tikva in Isra...  "
      ]
     },
     "execution_count": 9,
     "metadata": {},
     "output_type": "execute_result"
    }
   ],
   "source": [
    "df.head()"
   ]
  },
  {
   "cell_type": "code",
   "execution_count": 10,
   "id": "e8a3de60-1b32-4718-ae82-265ff203bb8c",
   "metadata": {},
   "outputs": [
    {
     "data": {
      "text/plain": [
       "'Esusu has headquaters in New York in United States and is in the field of Fintech. The investors in the company are Next Play Ventures, Zeal Capital Partners, SoftBank Group,. More info at https://www.cbinsights.com/company/esusu.'"
      ]
     },
     "execution_count": 10,
     "metadata": {},
     "output_type": "execute_result"
    }
   ],
   "source": [
    "df['summary'][0]"
   ]
  },
  {
   "cell_type": "markdown",
   "id": "9a5ddcc5-0358-4353-8d3c-0e1c8b478a83",
   "metadata": {},
   "source": [
    "## Token Counting & Price Estimates"
   ]
  },
  {
   "cell_type": "code",
   "execution_count": 11,
   "id": "8c8d1a6f-12cd-4fb7-beb5-6d21dff34486",
   "metadata": {},
   "outputs": [],
   "source": [
    "def num_tokens_from_string(string, encoding_name):\n",
    "    encoding = tiktoken.get_encoding(encoding_name)\n",
    "    num_tokens = len(encoding.encode(string))\n",
    "    return num_tokens"
   ]
  },
  {
   "cell_type": "code",
   "execution_count": 12,
   "id": "855cdb75-cb1d-47c2-9356-7c98852bb38a",
   "metadata": {},
   "outputs": [
    {
     "data": {
      "text/plain": [
       "55"
      ]
     },
     "execution_count": 12,
     "metadata": {},
     "output_type": "execute_result"
    }
   ],
   "source": [
    "# Number of Tokens\n",
    "num_tokens_from_string(df['summary'][0], 'cl100k_base')"
   ]
  },
  {
   "cell_type": "code",
   "execution_count": 13,
   "id": "052c2840-ed6e-4db1-bc7e-7b4ebf34475f",
   "metadata": {},
   "outputs": [
    {
     "data": {
      "text/plain": [
       "34"
      ]
     },
     "execution_count": 13,
     "metadata": {},
     "output_type": "execute_result"
    }
   ],
   "source": [
    "# Number of words\n",
    "len(df['summary'][0].split())"
   ]
  },
  {
   "cell_type": "code",
   "execution_count": 14,
   "id": "278b2356-e12c-4900-b056-c25fdfbe6ea1",
   "metadata": {},
   "outputs": [],
   "source": [
    "df['token_count'] = df['summary'].apply(lambda text: num_tokens_from_string(text, 'cl100k_base'))"
   ]
  },
  {
   "cell_type": "code",
   "execution_count": 15,
   "id": "72043db5-ea91-449f-8d73-5723dd183bc1",
   "metadata": {},
   "outputs": [
    {
     "data": {
      "text/plain": [
       "67045"
      ]
     },
     "execution_count": 15,
     "metadata": {},
     "output_type": "execute_result"
    }
   ],
   "source": [
    "# Number of tokens for all text in summary column\n",
    "df['token_count'].sum()"
   ]
  },
  {
   "cell_type": "code",
   "execution_count": 16,
   "id": "ee527237-d557-4e68-9339-72161cd99648",
   "metadata": {},
   "outputs": [
    {
     "name": "stdout",
     "output_type": "stream",
     "text": [
      "Cost Estimate: $0.107272\n"
     ]
    }
   ],
   "source": [
    "# Cost Estimate for generating embeddings for this dataset\n",
    "\n",
    "# Cost per 1000 tokens -> $0.0004\n",
    "cost_per_thousand_tokens = 0.0004\n",
    "\n",
    "# Number of default Epochs\n",
    "num_epochs = 4\n",
    "\n",
    "estimated_cost = cost_per_thousand_tokens * num_epochs * df['token_count'].sum()/1000\n",
    "\n",
    "print(\"Cost Estimate: ${:2f}\".format(estimated_cost))"
   ]
  },
  {
   "cell_type": "markdown",
   "id": "0df96f21-9252-431b-b22e-071b1bceb445",
   "metadata": {},
   "source": [
    "## Text Embeddings using OpenAI API"
   ]
  },
  {
   "cell_type": "code",
   "execution_count": 17,
   "id": "ee6a12d6-3a41-43a3-a7c2-b627824211c0",
   "metadata": {},
   "outputs": [],
   "source": [
    "# Get Text Embeddings\n",
    "def get_embedding(text):\n",
    "    result = openai.Embedding.create(\n",
    "        model='text-embedding-ada-002',\n",
    "        input=text\n",
    "    )\n",
    "    return result['data'][0]['embedding']"
   ]
  },
  {
   "cell_type": "code",
   "execution_count": 18,
   "id": "4029a86a-69ae-4096-a705-46dc2ce7c5f5",
   "metadata": {},
   "outputs": [],
   "source": [
    "vector = get_embedding(df['summary'][0])"
   ]
  },
  {
   "cell_type": "code",
   "execution_count": 19,
   "id": "aeeb3ea4-4f58-4f49-ace9-0377c5361622",
   "metadata": {},
   "outputs": [
    {
     "data": {
      "text/plain": [
       "1536"
      ]
     },
     "execution_count": 19,
     "metadata": {},
     "output_type": "execute_result"
    }
   ],
   "source": [
    "# Embedding Vector Length\n",
    "len(vector)"
   ]
  },
  {
   "cell_type": "code",
   "execution_count": 20,
   "id": "f54aa8cc-5d8a-41ef-89fa-137263246156",
   "metadata": {},
   "outputs": [],
   "source": [
    "# Add embedding for each summary string to dataframe\n",
    "# df['embedding'] = df['summary'].apply(get_embedding)"
   ]
  },
  {
   "cell_type": "code",
   "execution_count": 21,
   "id": "85b0eb0c-057b-43f8-b6a8-d0a8e28f00e3",
   "metadata": {},
   "outputs": [
    {
     "data": {
      "text/html": [
       "<div>\n",
       "<style scoped>\n",
       "    .dataframe tbody tr th:only-of-type {\n",
       "        vertical-align: middle;\n",
       "    }\n",
       "\n",
       "    .dataframe tbody tr th {\n",
       "        vertical-align: top;\n",
       "    }\n",
       "\n",
       "    .dataframe thead th {\n",
       "        text-align: right;\n",
       "    }\n",
       "</style>\n",
       "<table border=\"1\" class=\"dataframe\">\n",
       "  <thead>\n",
       "    <tr style=\"text-align: right;\">\n",
       "      <th></th>\n",
       "      <th>Updated at</th>\n",
       "      <th>Company</th>\n",
       "      <th>Crunchbase Url</th>\n",
       "      <th>Last Valuation (Billion $)</th>\n",
       "      <th>Date Joined</th>\n",
       "      <th>Year Joined</th>\n",
       "      <th>City</th>\n",
       "      <th>Country</th>\n",
       "      <th>Industry</th>\n",
       "      <th>Investors</th>\n",
       "      <th>Company Website</th>\n",
       "      <th>summary</th>\n",
       "      <th>token_count</th>\n",
       "      <th>embedding</th>\n",
       "    </tr>\n",
       "  </thead>\n",
       "  <tbody>\n",
       "    <tr>\n",
       "      <th>0</th>\n",
       "      <td>10/31/2022, 2:37:05 AM</td>\n",
       "      <td>Esusu</td>\n",
       "      <td>https://www.cbinsights.com/company/esusu</td>\n",
       "      <td>1.0</td>\n",
       "      <td>1/27/2022</td>\n",
       "      <td>2022</td>\n",
       "      <td>New York</td>\n",
       "      <td>United States</td>\n",
       "      <td>Fintech</td>\n",
       "      <td>[\"Next Play Ventures\",\"Zeal Capital Partners\",...</td>\n",
       "      <td>NaN</td>\n",
       "      <td>Esusu has headquarters in New York in United S...</td>\n",
       "      <td>58</td>\n",
       "      <td>[0.01195491198450327, -0.017717931419610977, -...</td>\n",
       "    </tr>\n",
       "    <tr>\n",
       "      <th>1</th>\n",
       "      <td>10/31/2022, 2:37:05 AM</td>\n",
       "      <td>Fever Labs</td>\n",
       "      <td>https://www.cbinsights.com/company/fever-labs</td>\n",
       "      <td>1.0</td>\n",
       "      <td>1/26/2022</td>\n",
       "      <td>2022</td>\n",
       "      <td>New York</td>\n",
       "      <td>United States</td>\n",
       "      <td>Internet software &amp; services</td>\n",
       "      <td>[\"Accel\",\"14W\",\"GS Growth\"]</td>\n",
       "      <td>NaN</td>\n",
       "      <td>Fever Labs has headquarters in New York in Uni...</td>\n",
       "      <td>60</td>\n",
       "      <td>[0.009171437472105026, 0.01314949057996273, -0...</td>\n",
       "    </tr>\n",
       "    <tr>\n",
       "      <th>2</th>\n",
       "      <td>10/31/2022, 2:37:04 AM</td>\n",
       "      <td>Minio</td>\n",
       "      <td>https://www.cbinsights.com/company/minio</td>\n",
       "      <td>1.0</td>\n",
       "      <td>1/26/2022</td>\n",
       "      <td>2022</td>\n",
       "      <td>Palo Alto</td>\n",
       "      <td>United States</td>\n",
       "      <td>Data management &amp; analytics</td>\n",
       "      <td>[\"General Catalyst\",\"Nexus Venture Partners\",\"...</td>\n",
       "      <td>NaN</td>\n",
       "      <td>Minio has headquarters in Palo Alto in United ...</td>\n",
       "      <td>57</td>\n",
       "      <td>[0.002730059437453747, -0.03737899661064148, 0...</td>\n",
       "    </tr>\n",
       "    <tr>\n",
       "      <th>3</th>\n",
       "      <td>10/31/2022, 2:37:04 AM</td>\n",
       "      <td>Darwinbox</td>\n",
       "      <td>https://www.cbinsights.com/company/darwinbox</td>\n",
       "      <td>1.0</td>\n",
       "      <td>1/25/2022</td>\n",
       "      <td>2022</td>\n",
       "      <td>Hyderabad</td>\n",
       "      <td>India</td>\n",
       "      <td>Internet software &amp; services</td>\n",
       "      <td>[\"Lightspeed India Partners\",\"Sequoia Capital ...</td>\n",
       "      <td>NaN</td>\n",
       "      <td>Darwinbox has headquarters in Hyderabad in Ind...</td>\n",
       "      <td>62</td>\n",
       "      <td>[-0.0024771858006715775, -0.024587858468294144...</td>\n",
       "    </tr>\n",
       "    <tr>\n",
       "      <th>4</th>\n",
       "      <td>10/31/2022, 2:37:04 AM</td>\n",
       "      <td>Pentera</td>\n",
       "      <td>https://www.cbinsights.com/company/pcysys</td>\n",
       "      <td>1.0</td>\n",
       "      <td>1/11/2022</td>\n",
       "      <td>2022</td>\n",
       "      <td>Petah Tikva</td>\n",
       "      <td>Israel</td>\n",
       "      <td>Cybersecurity</td>\n",
       "      <td>[\"AWZ Ventures\",\"Blackstone\",\"Insight Partners\"]</td>\n",
       "      <td>NaN</td>\n",
       "      <td>Pentera has headquarters in Petah Tikva in Isr...</td>\n",
       "      <td>58</td>\n",
       "      <td>[0.011331121437251568, -0.011193273589015007, ...</td>\n",
       "    </tr>\n",
       "  </tbody>\n",
       "</table>\n",
       "</div>"
      ],
      "text/plain": [
       "               Updated at     Company  \\\n",
       "0  10/31/2022, 2:37:05 AM       Esusu   \n",
       "1  10/31/2022, 2:37:05 AM  Fever Labs   \n",
       "2  10/31/2022, 2:37:04 AM       Minio   \n",
       "3  10/31/2022, 2:37:04 AM   Darwinbox   \n",
       "4  10/31/2022, 2:37:04 AM     Pentera   \n",
       "\n",
       "                                  Crunchbase Url  Last Valuation (Billion $)  \\\n",
       "0       https://www.cbinsights.com/company/esusu                         1.0   \n",
       "1  https://www.cbinsights.com/company/fever-labs                         1.0   \n",
       "2       https://www.cbinsights.com/company/minio                         1.0   \n",
       "3   https://www.cbinsights.com/company/darwinbox                         1.0   \n",
       "4      https://www.cbinsights.com/company/pcysys                         1.0   \n",
       "\n",
       "  Date Joined  Year Joined         City        Country  \\\n",
       "0   1/27/2022         2022     New York  United States   \n",
       "1   1/26/2022         2022     New York  United States   \n",
       "2   1/26/2022         2022    Palo Alto  United States   \n",
       "3   1/25/2022         2022    Hyderabad          India   \n",
       "4   1/11/2022         2022  Petah Tikva         Israel   \n",
       "\n",
       "                       Industry  \\\n",
       "0                       Fintech   \n",
       "1  Internet software & services   \n",
       "2   Data management & analytics   \n",
       "3  Internet software & services   \n",
       "4                Cybersecurity    \n",
       "\n",
       "                                           Investors  Company Website  \\\n",
       "0  [\"Next Play Ventures\",\"Zeal Capital Partners\",...              NaN   \n",
       "1                        [\"Accel\",\"14W\",\"GS Growth\"]              NaN   \n",
       "2  [\"General Catalyst\",\"Nexus Venture Partners\",\"...              NaN   \n",
       "3  [\"Lightspeed India Partners\",\"Sequoia Capital ...              NaN   \n",
       "4   [\"AWZ Ventures\",\"Blackstone\",\"Insight Partners\"]              NaN   \n",
       "\n",
       "                                             summary  token_count  \\\n",
       "0  Esusu has headquarters in New York in United S...           58   \n",
       "1  Fever Labs has headquarters in New York in Uni...           60   \n",
       "2  Minio has headquarters in Palo Alto in United ...           57   \n",
       "3  Darwinbox has headquarters in Hyderabad in Ind...           62   \n",
       "4  Pentera has headquarters in Petah Tikva in Isr...           58   \n",
       "\n",
       "                                           embedding  \n",
       "0  [0.01195491198450327, -0.017717931419610977, -...  \n",
       "1  [0.009171437472105026, 0.01314949057996273, -0...  \n",
       "2  [0.002730059437453747, -0.03737899661064148, 0...  \n",
       "3  [-0.0024771858006715775, -0.024587858468294144...  \n",
       "4  [0.011331121437251568, -0.011193273589015007, ...  "
      ]
     },
     "execution_count": 21,
     "metadata": {},
     "output_type": "execute_result"
    }
   ],
   "source": [
    "df = pd.read_csv(\"data/unicorns_with_embeddings.csv\")\n",
    "df.head()"
   ]
  },
  {
   "cell_type": "markdown",
   "id": "e601be51-4e95-416d-9f14-ee3b9d1a7bb2",
   "metadata": {},
   "source": [
    "## Document Similarity"
   ]
  },
  {
   "cell_type": "code",
   "execution_count": 22,
   "id": "63ed11f4-1f4e-42ba-92c1-9d9d1091664a",
   "metadata": {},
   "outputs": [],
   "source": [
    "prompt = \"What does the company Pentera do and who invested in it?\""
   ]
  },
  {
   "cell_type": "code",
   "execution_count": 23,
   "id": "9c8cfe2d-63eb-4254-b536-e8dd0647e9e8",
   "metadata": {},
   "outputs": [],
   "source": [
    "# Prompt Embedding\n",
    "prompt_embedding = get_embedding(prompt)"
   ]
  },
  {
   "cell_type": "code",
   "execution_count": 24,
   "id": "8340134a-b1d9-4e6f-b34f-4fe92280b5d4",
   "metadata": {},
   "outputs": [],
   "source": [
    "# Similarity Search in Document using Embeddings\n",
    "def vector_similarity(query_vec, doc_vec):\n",
    "    return np.dot(np.array(query_vec), np.array(doc_vec))"
   ]
  },
  {
   "cell_type": "code",
   "execution_count": 25,
   "id": "b548598d-cc7f-4d02-a0da-56030bfadea0",
   "metadata": {},
   "outputs": [],
   "source": [
    "# Compare Prompt Embedding with every other Summary Embedding in the Dataframe\n",
    "df['prompt_similarity'] = df['embedding'].apply(lambda vector: vector_similarity(ast.literal_eval(vector), prompt_embedding))"
   ]
  },
  {
   "cell_type": "code",
   "execution_count": 26,
   "id": "516999b1-8740-431c-a256-b832b4eae268",
   "metadata": {},
   "outputs": [
    {
     "data": {
      "text/plain": [
       "0       0.759134\n",
       "1       0.747102\n",
       "2       0.777779\n",
       "3       0.748863\n",
       "4       0.883279\n",
       "          ...   \n",
       "1194    0.753238\n",
       "1195    0.772762\n",
       "1196    0.753397\n",
       "1197    0.769425\n",
       "1198    0.771628\n",
       "Name: prompt_similarity, Length: 1199, dtype: float64"
      ]
     },
     "execution_count": 26,
     "metadata": {},
     "output_type": "execute_result"
    }
   ],
   "source": [
    "df['prompt_similarity']"
   ]
  },
  {
   "cell_type": "code",
   "execution_count": 27,
   "id": "3789b73b-89b2-454f-b97a-c98e413eddf1",
   "metadata": {},
   "outputs": [],
   "source": [
    "# Row with similar embedding match in document\n",
    "context = df.nlargest(1, 'prompt_similarity').iloc[0]['summary']"
   ]
  },
  {
   "cell_type": "code",
   "execution_count": 28,
   "id": "b1a4cb71-97cf-4557-a177-66cab046cb5a",
   "metadata": {},
   "outputs": [
    {
     "name": "stdout",
     "output_type": "stream",
     "text": [
      "Pentera has headquarters in Petah Tikva in Israel and is in the field of Cybersecurity . The investors in the company are AWZ Ventures,  Blackstone,  Insight Partners, . You can find more information at https://www.cbinsights.com/company/pcysys\n"
     ]
    }
   ],
   "source": [
    "print(context)"
   ]
  },
  {
   "cell_type": "markdown",
   "id": "da30b5d9-7467-4eda-8625-8220b169436a",
   "metadata": {},
   "source": [
    "## Prompt with Context"
   ]
  },
  {
   "cell_type": "code",
   "execution_count": 29,
   "id": "d6de3c01-c8ac-4c40-b6ea-39037294f182",
   "metadata": {},
   "outputs": [],
   "source": [
    "# Prompt Engineering\n",
    "MY_PROMPT = f'''Only answert the question below if you have 100% certainity of the facts.\n",
    "Context: {context}\n",
    "Q: What does the start-up company Pentera do and who invested in it?\n",
    "A:\n",
    "'''"
   ]
  },
  {
   "cell_type": "code",
   "execution_count": 30,
   "id": "e87f107f-6273-4fe9-baff-c0df48e8e405",
   "metadata": {},
   "outputs": [
    {
     "name": "stdout",
     "output_type": "stream",
     "text": [
      "Only answert the question below if you have 100% certainity of the facts.\n",
      "Context: Pentera has headquarters in Petah Tikva in Israel and is in the field of Cybersecurity . The investors in the company are AWZ Ventures,  Blackstone,  Insight Partners, . You can find more information at https://www.cbinsights.com/company/pcysys\n",
      "Q: What does the start-up company Pentera do and who invested in it?\n",
      "A:\n",
      "\n"
     ]
    }
   ],
   "source": [
    "print(MY_PROMPT)"
   ]
  },
  {
   "cell_type": "code",
   "execution_count": 31,
   "id": "b7419005-64c8-40a7-b4b0-add4ac884fa0",
   "metadata": {},
   "outputs": [],
   "source": [
    "response = openai.Completion.create(\n",
    "    model='text-davinci-003',\n",
    "    prompt=MY_PROMPT,\n",
    "    max_tokens=256,\n",
    "    temperature=0,\n",
    ")"
   ]
  },
  {
   "cell_type": "code",
   "execution_count": 32,
   "id": "500a83a6-25f6-4580-840d-b9720f3a515e",
   "metadata": {},
   "outputs": [
    {
     "name": "stdout",
     "output_type": "stream",
     "text": [
      "Pentera is a Cybersecurity start-up company headquartered in Petah Tikva, Israel. The investors in the company are AWZ Ventures, Blackstone, and Insight Partners.\n"
     ]
    }
   ],
   "source": [
    "print(response['choices'][0]['text'])"
   ]
  },
  {
   "cell_type": "code",
   "execution_count": 33,
   "id": "d67ac7c0-2bca-4edd-8d09-376bb141c82b",
   "metadata": {},
   "outputs": [],
   "source": [
    "# Combined Function\n",
    "def embed_prompt_lookup():\n",
    "    question = input(\"What question do you have about a Unicorn start-up? \")\n",
    "    prompt_embedding = get_embedding(question)\n",
    "    \n",
    "    # Compare Prompt Embedding with every other Summary Embedding in the Dataframe\n",
    "    df['prompt_similarity'] = df['embedding'].apply(lambda vector: vector_similarity(ast.literal_eval(vector), prompt_embedding))\n",
    "    \n",
    "    # Row with similar embedding match in document\n",
    "    context = df.nlargest(1, 'prompt_similarity').iloc[0]['summary']\n",
    "    \n",
    "    # Prompt Engineering\n",
    "    MY_PROMPT = f'''Only answert the question below if you have 100% certainity of the facts.\n",
    "    Context: {context}\n",
    "    Q: {question}?\n",
    "    A:\n",
    "    '''\n",
    "    \n",
    "    # Get API Response\n",
    "    # Since, we now have context, we can switch to a smaller, cheaper model\n",
    "    response = openai.Completion.create(\n",
    "        model='text-curie-001',\n",
    "        prompt=MY_PROMPT,\n",
    "        max_tokens=256,\n",
    "        temperature=0,\n",
    "    )\n",
    "    \n",
    "    return response['choices'][0]['text']"
   ]
  },
  {
   "cell_type": "code",
   "execution_count": 34,
   "id": "df836ed2-53a6-4724-abf3-77a6a44fad40",
   "metadata": {},
   "outputs": [
    {
     "name": "stdin",
     "output_type": "stream",
     "text": [
      "What question do you have about a Unicorn start-up?  What an you tell me about the company Minio?\n"
     ]
    },
    {
     "data": {
      "text/plain": [
       "' Minio is a data management and analytics company headquartered in Palo Alto, California. It has investors including General Catalyst, Nexus Venture Partners, Dell Technologies Capital, and others.'"
      ]
     },
     "execution_count": 34,
     "metadata": {},
     "output_type": "execute_result"
    }
   ],
   "source": [
    "# Test\n",
    "embed_prompt_lookup()"
   ]
  },
  {
   "attachments": {
    "8769d8a1-6959-481e-9420-2aeccdb20836.png": {
     "image/png": "[encoded data removed]"
    }
   },
   "cell_type": "markdown",
   "id": "64f64d79-f126-4009-8d18-9ee86de36873",
   "metadata": {},
   "source": [
    "**NOTE that the model we are using only has the knowledge of the internet till 2019, whereas the startup we asked it about ws formed in 2022.**\n",
    "\n",
    "![Screenshot 2023-03-19 at 12.45.28 PM.png](attachment:8769d8a1-6959-481e-9420-2aeccdb20836.png)"
   ]
  }
 ],
 "metadata": {
  "kernelspec": {
   "display_name": "Python 3 (ipykernel)",
   "language": "python",
   "name": "python3"
  },
  "language_info": {
   "codemirror_mode": {
    "name": "ipython",
    "version": 3
   },
   "file_extension": ".py",
   "mimetype": "text/x-python",
   "name": "python",
   "nbconvert_exporter": "python",
   "pygments_lexer": "ipython3",
   "version": "3.8.5"
  }
 },
 "nbformat": 4,
 "nbformat_minor": 5
}
