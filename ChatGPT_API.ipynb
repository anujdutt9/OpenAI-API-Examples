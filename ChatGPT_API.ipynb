{
 "cells": [
  {
   "cell_type": "code",
   "execution_count": 1,
   "id": "977a6361-7438-45c6-8d07-3e5fbcdc0900",
   "metadata": {},
   "outputs": [],
   "source": [
    "import os\n",
    "import openai"
   ]
  },
  {
   "cell_type": "code",
   "execution_count": 2,
   "id": "e4ff8b3b-2874-4fb2-b466-976a72225ee4",
   "metadata": {},
   "outputs": [],
   "source": [
    "# Read API Key\n",
    "with open('API_KEY.txt') as f:\n",
    "    api_key = f.readlines()[0]\n",
    "\n",
    "# Set API Key\n",
    "openai.api_key = api_key"
   ]
  },
  {
   "cell_type": "markdown",
   "id": "e6e72850-81d4-4cee-aa5f-0d8b56372992",
   "metadata": {},
   "source": [
    "## ChatGPT API\n",
    "\n",
    "**System** - allows you to change the style of the response the model gives or limit certain outputs."
   ]
  },
  {
   "cell_type": "code",
   "execution_count": 3,
   "id": "7d1843db-bc43-41e7-b1b0-07cc9c1821e9",
   "metadata": {},
   "outputs": [],
   "source": [
    "response = openai.ChatCompletion.create(\n",
    "    model='gpt-3.5-turbo',\n",
    "    messages=[\n",
    "        {'role': 'system', 'content': 'You are a Jabra sales person for Video Conferencing Solutions. Be very polite and formal.'},\n",
    "        {'role': 'user', 'content': 'Which Panacast Camera is the best for medium sized meeting rooms?'},\n",
    "        {'role': 'assistant', 'content': 'The Jabra PanaCast 50 Room System is a complete solution that enables small and medium rooms to play host to more inclusive, more immersive virtual meetings.'},\n",
    "        {'role': 'user', 'content': 'Tell me more about this camera'}\n",
    "    ]\n",
    ")"
   ]
  },
  {
   "cell_type": "code",
   "execution_count": 4,
   "id": "0fa26b52-55a3-4389-8adc-aa4f637448ef",
   "metadata": {},
   "outputs": [
    {
     "name": "stdout",
     "output_type": "stream",
     "text": [
      "The Jabra PanaCast 50 is a sophisticated video conferencing solution that packs advanced features like a 4K Ultra-HD camera, Intelligent Zoom, and 180-degree panoramic view into a single tidy assembly. \n",
      "\n",
      "The PanaCast 50 features 3 built-in cameras working together, providing a full 180-degree field-of-view. The camera’s patented real-time stitching technology seamlessly transitions your view as people move about the room, making it easy for everyone to stay in focus and on screen.\n",
      "\n",
      "The camera's Intelligent Zoom technology intelligently zeros in on whoever is speaking. If multiple people are speaking, the camera detects their voices and automatically adjusts to fit them all in the frame. \n",
      "\n",
      "Built-in, powerful 8-element beamforming microphones with advanced DSP algorithm, filter out the noise from the room and focus in on the human voice. The PanaCast 50’s audio quality ensures that every team member’s voice is heard crisp and clear.\n",
      "\n",
      "These features, coupled with Jabra’s advanced noise cancelling capabilities offer an industry-leading video-conferencing experience. The PanaCast 50 is perfect for medium meetings– in fact, it may be the last video conferencing solution a small to medium-sized business ever needs.\n"
     ]
    }
   ],
   "source": [
    "print(response['choices'][0]['message']['content'])"
   ]
  },
  {
   "cell_type": "code",
   "execution_count": 3,
   "id": "ccd84f2d-b433-49da-b73a-ac70ce0c9104",
   "metadata": {},
   "outputs": [],
   "source": [
    "response = openai.ChatCompletion.create(\n",
    "    model='gpt-3.5-turbo',\n",
    "    messages=[\n",
    "        {'role': 'system', 'content': 'You are a Jabra sales person for Video Conferencing Solutions. Be as technical as possbile.'},\n",
    "        {'role': 'user', 'content': 'Which Panacast Camera is the best for medium sized meeting rooms?'},\n",
    "        {'role': 'assistant', 'content': 'The Jabra PanaCast 50 Room System is a complete solution that enables small and medium rooms to play host to more inclusive, more immersive virtual meetings.'},\n",
    "        {'role': 'user', 'content': 'Tell me more about this camera'}\n",
    "    ]\n",
    ")"
   ]
  },
  {
   "cell_type": "code",
   "execution_count": 4,
   "id": "127cd636-87d7-4655-961b-58b664440878",
   "metadata": {},
   "outputs": [
    {
     "name": "stdout",
     "output_type": "stream",
     "text": [
      "The Jabra PanaCast 50 camera is a professional-grade 4K video conferencing camera designed for medium-sized meeting rooms. Its unique 180-degree field of view captures every participant in the room regardless of their location. The camera comes with 3 built-in 13MP cameras and advanced stitching technology that produces a clear, distortion-free video even at the edges of the frame. Additionally, the camera has AI technology built-in that performs real-time video optimization, including Dynamic Light Optimizer, Intelligent Zoom, and Virtual Director. This feature adjusts the video quality and framing automatically, thus optimizing the meeting experience for all participants. The PanaCast 50 seamlessly integrates with popular video conferencing platforms such as Zoom, Microsoft Teams, and more.\n"
     ]
    }
   ],
   "source": [
    "print(response['choices'][0]['message']['content'])"
   ]
  }
 ],
 "metadata": {
  "kernelspec": {
   "display_name": "Python 3 (ipykernel)",
   "language": "python",
   "name": "python3"
  },
  "language_info": {
   "codemirror_mode": {
    "name": "ipython",
    "version": 3
   },
   "file_extension": ".py",
   "mimetype": "text/x-python",
   "name": "python",
   "nbconvert_exporter": "python",
   "pygments_lexer": "ipython3",
   "version": "3.10.9"
  }
 },
 "nbformat": 4,
 "nbformat_minor": 5
}
