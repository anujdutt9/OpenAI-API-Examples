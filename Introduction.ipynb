{
 "cells": [
  {
   "cell_type": "code",
   "execution_count": 1,
   "id": "bc6e29cd-1c68-46a0-8787-077cfcba804e",
   "metadata": {
    "tags": []
   },
   "outputs": [],
   "source": [
    "import os\n",
    "import openai"
   ]
  },
  {
   "cell_type": "code",
   "execution_count": 2,
   "id": "98acc8ca-2a94-4e5c-afd8-559af9e65eb2",
   "metadata": {
    "tags": []
   },
   "outputs": [],
   "source": [
    "# Read API Key\n",
    "with open('API_KEY.txt') as f:\n",
    "    api_key = f.readlines()[0]"
   ]
  },
  {
   "cell_type": "code",
   "execution_count": 3,
   "id": "b019a1cd-f380-46f0-ba93-96424e87c571",
   "metadata": {
    "tags": []
   },
   "outputs": [],
   "source": [
    "# Set API Key\n",
    "openai.api_key = api_key"
   ]
  },
  {
   "cell_type": "code",
   "execution_count": 4,
   "id": "15b95f38-b415-47f7-ad9d-0f1bb826caff",
   "metadata": {},
   "outputs": [],
   "source": [
    "# Sample Prompt\n",
    "MY_PROMPT = \"Give me a reason to learn OpenAI API with Python\""
   ]
  },
  {
   "cell_type": "code",
   "execution_count": 5,
   "id": "27007a67-8254-4429-b07a-9b074400cf10",
   "metadata": {
    "tags": []
   },
   "outputs": [],
   "source": [
    "# Get Response from OpenAI Text Completion Model\n",
    "response = openai.Completion.create(\n",
    "    model='text-davinci-003',\n",
    "    prompt=MY_PROMPT,\n",
    "    max_tokens=300,\n",
    ")"
   ]
  },
  {
   "cell_type": "code",
   "execution_count": 6,
   "id": "8cf56585-69cc-4905-99f1-0adafdd2ccb3",
   "metadata": {
    "tags": []
   },
   "outputs": [
    {
     "data": {
      "text/plain": [
       "<OpenAIObject text_completion id=cmpl-6vGQaADzTQfIFVxTRphxAxlbHeuOB at 0x12ad8a070> JSON: {\n",
       "  \"choices\": [\n",
       "    {\n",
       "      \"finish_reason\": \"stop\",\n",
       "      \"index\": 0,\n",
       "      \"logprobs\": null,\n",
       "      \"text\": \"\\n\\nLearning OpenAI API with Python can be beneficial for anyone who wants to develop AI-powered applications. Python is a versatile and powerful programming language, making it easy to build intelligent agents and programs for various tasks. With OpenAI API, developers can train and deploy AI models into production, creating automation solutions that can be quickly implemented into different projects. Additionally, OpenAI API has a variety of features that are particularly useful for developers \\u2013 allowing them to create predictive models that can improve the accuracy of natural language processing or object recognition.\"\n",
       "    }\n",
       "  ],\n",
       "  \"created\": 1679105864,\n",
       "  \"id\": \"cmpl-6vGQaADzTQfIFVxTRphxAxlbHeuOB\",\n",
       "  \"model\": \"text-davinci-003\",\n",
       "  \"object\": \"text_completion\",\n",
       "  \"usage\": {\n",
       "    \"completion_tokens\": 107,\n",
       "    \"prompt_tokens\": 11,\n",
       "    \"total_tokens\": 118\n",
       "  }\n",
       "}"
      ]
     },
     "execution_count": 6,
     "metadata": {},
     "output_type": "execute_result"
    }
   ],
   "source": [
    "response"
   ]
  },
  {
   "cell_type": "code",
   "execution_count": 7,
   "id": "d207a396-f1b5-42bc-afed-5eb8a8b3de54",
   "metadata": {
    "tags": []
   },
   "outputs": [
    {
     "name": "stdout",
     "output_type": "stream",
     "text": [
      "\n",
      "\n",
      "Learning OpenAI API with Python can be beneficial for anyone who wants to develop AI-powered applications. Python is a versatile and powerful programming language, making it easy to build intelligent agents and programs for various tasks. With OpenAI API, developers can train and deploy AI models into production, creating automation solutions that can be quickly implemented into different projects. Additionally, OpenAI API has a variety of features that are particularly useful for developers – allowing them to create predictive models that can improve the accuracy of natural language processing or object recognition.\n"
     ]
    }
   ],
   "source": [
    "# Cleaned up Response\n",
    "print(response['choices'][0]['text'])"
   ]
  }
 ],
 "metadata": {
  "kernelspec": {
   "display_name": "Python 3 (ipykernel)",
   "language": "python",
   "name": "python3"
  },
  "language_info": {
   "codemirror_mode": {
    "name": "ipython",
    "version": 3
   },
   "file_extension": ".py",
   "mimetype": "text/x-python",
   "name": "python",
   "nbconvert_exporter": "python",
   "pygments_lexer": "ipython3",
   "version": "3.10.4"
  }
 },
 "nbformat": 4,
 "nbformat_minor": 5
}
